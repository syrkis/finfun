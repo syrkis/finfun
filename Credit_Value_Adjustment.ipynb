{
 "cells": [
  {
   "cell_type": "code",
   "execution_count": 40,
   "id": "6a32de2a",
   "metadata": {},
   "outputs": [],
   "source": [
    "import pandas as pd\n",
    "import numpy as np\n",
    "import matplotlib.pyplot as plt\n",
    "from scipy.stats import norm\n",
    "from scipy.interpolate import interp1d"
   ]
  },
  {
   "cell_type": "markdown",
   "id": "a259bd21",
   "metadata": {},
   "source": [
    "### Credit Value Adjustment"
   ]
  },
  {
   "cell_type": "markdown",
   "id": "58fcbfe7",
   "metadata": {},
   "source": [
    "You have a portfolio of interest rate swaps (note that two of them are off-market swaps, meaning that\n",
    "they have a value different from zero at initiation):"
   ]
  },
  {
   "cell_type": "markdown",
   "id": "bfba4e2d",
   "metadata": {},
   "source": [
    "• A 10-year interest swap on a notional of $2 million, where you pay a fixed swap rate of 2?\\% and\n",
    "receive the floating rate\n",
    "\n",
    "• A 7-year interest swap on a notional of $8 million, where you pay a fixed swap rate set such that\n",
    "the initial value of the contract is zero and receive the floating rate\n",
    "\n",
    "• A 4-year interest swap on a notional of $6 million dollars, where you pay the floating rate and\n",
    "receive a fixed rate of 3\\%"
   ]
  },
  {
   "cell_type": "markdown",
   "id": "752e1b21",
   "metadata": {},
   "source": [
    "All swap payments are made on a quarterly basis, and you believe that the evolution of the interest\n",
    "rate can be described using a Vasicek4 model estimated from data uploaded on Learn."
   ]
  },
  {
   "cell_type": "markdown",
   "id": "f8bb4d8c",
   "metadata": {},
   "source": [
    "The interest rate swaps are entered with Credit Suisse, and their creditworthiness can be evaluated using\n",
    "the following CDS spreads along with an assumption that R = 32%."
   ]
  },
  {
   "cell_type": "markdown",
   "id": "8d69cec1",
   "metadata": {},
   "source": [
    "### Interest rate model"
   ]
  },
  {
   "cell_type": "markdown",
   "id": "71afbc59",
   "metadata": {},
   "source": [
    "Estimate the parameters in the Vasicek model using the uploaded data. The data is simulated for the\n",
    "purpose of this project and can be seen as daily observed data for five years."
   ]
  },
  {
   "cell_type": "markdown",
   "id": "276da3ee",
   "metadata": {},
   "source": [
    "This was uploaded as xsxl. The parameters we obtained are:\n",
    "\n",
    "    a = -0.003\n",
    "    b = 0.031\n",
    "    sigma = 0.00096"
   ]
  },
  {
   "cell_type": "markdown",
   "id": "2c131c62",
   "metadata": {},
   "source": [
    "### Calculation of exposure"
   ]
  },
  {
   "cell_type": "markdown",
   "id": "19994462",
   "metadata": {},
   "source": [
    "For each of the swap contracts, use interest rate simulations to calculate the future values of the interest\n",
    "swaps. Use these simulated values to find the expected exposure, the peak exposure (97.5%), and the\n",
    "maximum peak exposure."
   ]
  },
  {
   "cell_type": "code",
   "execution_count": null,
   "id": "18edc5bf",
   "metadata": {},
   "outputs": [],
   "source": []
  },
  {
   "cell_type": "code",
   "execution_count": 8,
   "id": "72fc031a",
   "metadata": {},
   "outputs": [],
   "source": [
    "df = pd.read_excel(\"RatesComma.xlsx\")"
   ]
  },
  {
   "cell_type": "code",
   "execution_count": 6,
   "id": "39450c72",
   "metadata": {},
   "outputs": [],
   "source": [
    "def simulate_Vasicek_One_Factor(r0: float = 0.1, a: float = 1.0, lam: float = 0.1, sigma: float = 0.2, T: int = 52, dt = 0.1) -> pd.DataFrame:\n",
    "    # SIMULATE_VASICEK_ONE_FACTOR simulates a temporal series of interest rates using the One Factor Vasicek model\n",
    "    # interest_rate_simulation = simulate_Vasicek_One_Factor(r0, a, lam, sigma, T, dt)\n",
    "    #\n",
    "    # Arguments:\n",
    "    #   r0    = float, starting interest rate of the vasicek process \n",
    "    #   a     = float, speed of reversion\" parameter that characterizes the velocity at which such trajectories will regroup around b in time\n",
    "    #   lam   = float, long term mean level that all future trajectories will evolve around  \n",
    "    #   sigma = float, instantaneous volatility measures instant by instant the amplitude of randomness entering the system\n",
    "    #   T     = integer, end modelling time. From 0 to T the time series runs. \n",
    "    #   dt    = float, increment of time that the proces runs on. Ex. dt = 0.1 then the time series is 0, 0.1, 0.2,...\n",
    "    #\n",
    "    # Returns:\n",
    "    #   interest_rate_simulation = N x 2 pandas DataFrame where index is modeling time and values are a realisation of the uderlying's price\n",
    "    #\n",
    "    # Example:\n",
    "    #   Model the interest rate which is 10% today. The annualized instant volatility is 20%. The external analysis points out that the mean reversion parameter is 1 and the long term interest rate level is 10 % therefore the mean reversion correction is theta = 10% * 1 = 10%. The user is interested in an interest rate projection of the next 10 years in increments of 6 months (0.5 years)\n",
    "    #\n",
    "    #   import pandas as pd\n",
    "    #   import numpy as np\n",
    "    #\n",
    "    #   simulate_Vasicek_One_Factor(0.1, 1.0, 0.1, 0.2, 10, 0.5)   \n",
    "    #   [out] = Time    Stock Price                \n",
    "    #           0.000000        0.100000\n",
    "    #           0.526316        0.212055\n",
    "    #           1.052632        0.115934\n",
    "    #           1.578947        0.012870\n",
    "    #           2.105263        0.003295\n",
    "    #           2.631579        0.206635\n",
    "    #           3.157895        0.191319\n",
    "    #           3.684211        0.108299\n",
    "    #           4.210526        0.094983\n",
    "    #           4.736842        0.075903\n",
    "    #           5.263158        0.229143\n",
    "    #           5.789474       -0.111977\n",
    "    #           6.315789        0.120245\n",
    "    #           6.842105        0.116082\n",
    "    #           7.368421        0.230879\n",
    "    #           7.894737        0.266821\n",
    "    #           8.421053        0.229788\n",
    "    #           8.947368        0.304378\n",
    "    #           9.473684        0.217760\n",
    "    #           10.000000       0.217147\n",
    "    # For more information see https://en.wikipedia.org/wiki/Vasicek_model\n",
    "    \n",
    "    N = int(T / dt) # number of subintervals of length 1/dt between 0 and max modeling time T\n",
    "\n",
    "    time, delta_t = np.linspace(0, T, num = N, retstep = True)\n",
    "\n",
    "    r = np.ones(N) * r0\n",
    "\n",
    "    for t in range(1,N):\n",
    "        r[t] = r[t-1] * np.exp(-a*dt)+lam*(1-np.exp(-a*dt))+sigma*np.sqrt((1-np.exp(-2*a*dt))/(2*a))* np.random.normal(loc = 0,scale = 1)\n",
    "\n",
    "    dict = {'Time' : time, 'Interest Rate' : r}\n",
    "\n",
    "    interest_rate_simulation = pd.DataFrame.from_dict(data = dict)\n",
    "    interest_rate_simulation.set_index('Time', inplace = True)\n",
    "\n",
    "    return interest_rate_simulation"
   ]
  },
  {
   "cell_type": "code",
   "execution_count": 9,
   "id": "dbc4b89f",
   "metadata": {},
   "outputs": [],
   "source": [
    "r0 = list(df[\"Group 2\"])[-1]    # The starting interest rate\n",
    "a = -0.003211481 # speed of reversion parameter\n",
    "lam = 0.031008044 # long-term mean interest rate level correction\n",
    "sigma = 0.0009 # instantaneous volatility\n",
    "T = 252*10 # end modelling time\n",
    "dt = 1 # increments of time"
   ]
  },
  {
   "cell_type": "code",
   "execution_count": 12,
   "id": "c34bcbd4",
   "metadata": {},
   "outputs": [],
   "source": [
    "rates = list(simulate_Vasicek_One_Factor(r0, a, lam, sigma, T, dt)[\"Interest Rate\"])"
   ]
  },
  {
   "cell_type": "code",
   "execution_count": 14,
   "id": "716323a5",
   "metadata": {},
   "outputs": [],
   "source": [
    "# Input data\n",
    "SpotRate = 0.03;\n",
    "k = 0.003;\n",
    "theta = 0.03;\n",
    "Vol = 0.0009;\n",
    "SwapRate = 0.02; # pick your self or calculate at-market rate\n",
    "TimeSteps = np.arange(0, 252, 1);\n",
    "T = len(TimeSteps)-1;\n",
    "PFE = []"
   ]
  },
  {
   "cell_type": "code",
   "execution_count": 15,
   "id": "aa04ebe3",
   "metadata": {},
   "outputs": [],
   "source": [
    "K = 100"
   ]
  },
  {
   "cell_type": "code",
   "execution_count": 16,
   "id": "1b366db2",
   "metadata": {},
   "outputs": [],
   "source": [
    "# This part is run many times\n",
    "InterestRate = np.empty((T,K))\n",
    "FloatingLeg = np.empty((T,K))\n",
    "FixedLeg = np.empty((T,K))\n",
    "SwapMtM = np.empty((T,K))"
   ]
  },
  {
   "cell_type": "code",
   "execution_count": 17,
   "id": "724d14c5",
   "metadata": {},
   "outputs": [],
   "source": [
    "for m in range(K):\n",
    "    # Simulate interest rates\n",
    "    InterestRate[0,m] = SpotRate\n",
    "    for i in range(1,T):\n",
    "        InterestRate[i,m] = InterestRate[i-1,m] + k*(theta-InterestRate[i-1,m])*(TimeSteps[i]-TimeSteps[i-1])+np.random.standard_normal()*np.sqrt((TimeSteps[i]-TimeSteps[i-1]))*Vol\n",
    "\n",
    "\n",
    "    B = (1-np.exp(-k*TimeSteps[1:T+1]))/k\n",
    "    A = np.exp(((B-TimeSteps[1:T+1])*(k**2*theta-Vol**2/2))/k**2-(Vol**2*B**2/(4*k)))\n",
    "\n",
    "    # Calculate discount factors to value swap\n",
    "    DiscountFactors = np.full([T, T], np.nan)\n",
    "\n",
    "    for i in range(T):\n",
    "        DiscountFactors[:(T-i),i] = A[i]*np.exp(-InterestRate[:(T-i),m]*np.transpose(B[i]))\n",
    "\n",
    "    FloatingLeg[:,m] = np.ones(T)-np.fliplr(DiscountFactors).diagonal()\n",
    "    FixedLeg[:,m] = SwapRate*0.25*np.nansum(DiscountFactors, axis = 1)\n",
    "    SwapMtM[:,m] = (FixedLeg[:,m]-FloatingLeg[:,m])"
   ]
  },
  {
   "cell_type": "code",
   "execution_count": 18,
   "id": "3827a56d",
   "metadata": {},
   "outputs": [],
   "source": [
    "# Calculate exposure and 90% peak exposure\n",
    "Exposure = SwapMtM*(SwapMtM>0);\n",
    "EE = Exposure.mean(axis = 1)\n",
    "\n",
    "for i in range(T):\n",
    "    PFE.append(np.quantile(SwapMtM[i,:],0.9))"
   ]
  },
  {
   "cell_type": "code",
   "execution_count": 22,
   "id": "46dc8c49",
   "metadata": {},
   "outputs": [
    {
     "data": {
      "image/png": "[encoded data removed]",
      "text/plain": [
       "<Figure size 1152x432 with 1 Axes>"
      ]
     },
     "metadata": {
      "needs_background": "light"
     },
     "output_type": "display_data"
    }
   ],
   "source": [
    "plt.figure(figsize = (16,6))\n",
    "plt.plot(TimeSteps, np.append(EE, 0), '-bo', label = 'EE')\n",
    "plt.plot(TimeSteps, np.append(PFE, 0), '-ro', label = 'PFE (90%)')\n",
    "plt.xlabel('Time (years)')\n",
    "plt.ylabel('Exposure')\n",
    "plt.legend()\n",
    "plt.grid()\n",
    "plt.show()"
   ]
  },
  {
   "cell_type": "code",
   "execution_count": 23,
   "id": "d50e5b37",
   "metadata": {},
   "outputs": [],
   "source": [
    "# Vasicek model parameters from the excel file\n",
    "a = -0.003211481  \n",
    "lam = 0.031008044  \n",
    "sigma = 0.0009  \n",
    "T = 252*5  \n",
    "dt = 1  \n",
    "N = 1000  \n",
    "\n",
    "# Swap contract details\n",
    "contract_1_notional = 2000000\n",
    "contract_1_fixed_rate = 0.02\n",
    "contract_2_notional = 8000000\n",
    "contract_3_notional = 6000000\n",
    "contract_3_fixed_rate = 0.03\n",
    "\n",
    "# Function to simulate interest rate paths using Vasicek model\n",
    "def simulate_interest_rates():\n",
    "    r = np.zeros((N, T))\n",
    "    r[:, 0] = 0.03  # Initial interest rate\n",
    "    for i in range(N):\n",
    "        for t in range(1, T):\n",
    "            epsilon = np.random.standard_normal()  # Standard normal random variable\n",
    "            r[i, t] = r[i, t-1] + a * (lam - r[i, t-1]) * dt + sigma * np.sqrt(dt) * epsilon\n",
    "    return r\n",
    "\n",
    "# Function to calculate future values of swap contracts\n",
    "def calculate_future_values(interest_rates):\n",
    "    contract_1_future_values = []\n",
    "    contract_2_future_values = []\n",
    "    contract_3_future_values = []\n",
    "    \n",
    "    for i in range(N):\n",
    "        contract_1_cash_flow = contract_1_notional * contract_1_fixed_rate * dt\n",
    "        contract_1_present_value = contract_1_cash_flow / (1 + interest_rates[i, -1])\n",
    "        contract_1_future_values.append(contract_1_present_value)\n",
    "        \n",
    "        contract_2_cash_flow = contract_2_notional * (interest_rates[i, -1] - interest_rates[i, 0]) / (1 + interest_rates[i, 0])\n",
    "        contract_2_present_value = contract_2_cash_flow / (1 + interest_rates[i, -1])\n",
    "        contract_2_future_values.append(contract_2_present_value)\n",
    "        \n",
    "        contract_3_cash_flow = contract_3_notional * contract_3_fixed_rate * dt\n",
    "        contract_3_present_value = contract_3_cash_flow / (1 + interest_rates[i, -1])\n",
    "        contract_3_future_values.append(contract_3_present_value)\n",
    "    \n",
    "    return np.array(contract_1_future_values), np.array(contract_2_future_values), np.array(contract_3_future_values)\n",
    "\n",
    "# Function to calculate exposure measures\n",
    "def calculate_exposure(future_values):\n",
    "    exposure = np.maximum(future_values, 0)\n",
    "    expected_exposure = np.mean(exposure, axis=0)\n",
    "    peak_exposure = np.percentile(exposure, 97.5, axis=0)\n",
    "    max_peak_exposure = np.max(peak_exposure)\n",
    "    return expected_exposure, peak_exposure, max_peak_exposure\n",
    "\n",
    "\n",
    "interest_rates = simulate_interest_rates()\n",
    "contract_1_future_values, contract_2_future_values, contract_3_future_values = calculate_future_values(interest_rates)\n",
    "\n",
    "contract_1_expected_exposure, contract_1_peak_exposure, contract_1_max_peak_exposure = calculate_exposure(contract_1_future_values)\n",
    "contract_2_expected_exposure, contract_2_peak_exposure, contract_2_max_peak_exposure = calculate_exposure(contract_2_future_values)\n",
    "contract_3_expected_exposure, contract_3_peak_exposure, contract_3_max_peak_exposure = calculate_exposure(contract_3_future_values)"
   ]
  },
  {
   "cell_type": "code",
   "execution_count": 24,
   "id": "1df783c0",
   "metadata": {},
   "outputs": [
    {
     "name": "stdout",
     "output_type": "stream",
     "text": [
      "Contract 1:\n",
      "Expected Exposure: 82896.38425934616\n",
      "Peak Exposure (97.5%): 385321.7857000936\n",
      "Maximum Peak Exposure: 385321.7857000936\n"
     ]
    }
   ],
   "source": [
    "print(\"Contract 1:\")\n",
    "print(\"Expected Exposure:\", contract_1_expected_exposure)\n",
    "print(\"Peak Exposure (97.5%):\", contract_1_peak_exposure)\n",
    "print(\"Maximum Peak Exposure:\", contract_1_max_peak_exposure)"
   ]
  },
  {
   "cell_type": "code",
   "execution_count": 25,
   "id": "cc31a1ac",
   "metadata": {},
   "outputs": [
    {
     "name": "stdout",
     "output_type": "stream",
     "text": [
      "Contract 2:\n",
      "Expected Exposure: 14773900.034947712\n",
      "Peak Exposure (97.5%): 76842317.23476592\n",
      "Maximum Peak Exposure: 76842317.23476592\n"
     ]
    }
   ],
   "source": [
    "print(\"Contract 2:\")\n",
    "print(\"Expected Exposure:\", contract_2_expected_exposure)\n",
    "print(\"Peak Exposure (97.5%):\", contract_2_peak_exposure)\n",
    "print(\"Maximum Peak Exposure:\", contract_2_max_peak_exposure)"
   ]
  },
  {
   "cell_type": "code",
   "execution_count": 26,
   "id": "ff01b497",
   "metadata": {},
   "outputs": [
    {
     "name": "stdout",
     "output_type": "stream",
     "text": [
      "Contract 3:\n",
      "Expected Exposure: 373033.72916705767\n",
      "Peak Exposure (97.5%): 1733948.0356504212\n",
      "Maximum Peak Exposure: 1733948.0356504212\n"
     ]
    }
   ],
   "source": [
    "print(\"Contract 3:\")\n",
    "print(\"Expected Exposure:\", contract_3_expected_exposure)\n",
    "print(\"Peak Exposure (97.5%):\", contract_3_peak_exposure)\n",
    "print(\"Maximum Peak Exposure:\", contract_3_max_peak_exposure)"
   ]
  },
  {
   "cell_type": "markdown",
   "id": "0e11a98f",
   "metadata": {},
   "source": [
    "### Calculation of CVA charge"
   ]
  },
  {
   "cell_type": "markdown",
   "id": "0d073fe4",
   "metadata": {},
   "source": [
    "Calculate the CVA charge for each swap on the two dates in the table above. You may use the same\n",
    "interest simulations for the calculation for the purpose of this project."
   ]
  },
  {
   "cell_type": "code",
   "execution_count": 29,
   "id": "115bd3cf",
   "metadata": {},
   "outputs": [
    {
     "name": "stdout",
     "output_type": "stream",
     "text": [
      "Expected Exposure: [1.17344967e+053 2.27859921e+097 4.42457354e+141 8.59161670e+185\n",
      " 1.66831621e+230 3.23952879e+274             inf             inf\n",
      "             inf             inf             inf             inf\n",
      "             inf             inf             inf             inf\n",
      "             inf             inf             inf             inf]\n",
      "Peak Exposure (97.5%): [1.95571663e+053 3.79760162e+097 7.37416548e+141 1.43191209e+186\n",
      " 2.78048035e+230 5.39912404e+274             nan             nan\n",
      "             nan             nan             nan             nan\n",
      "             nan             nan             nan             nan\n",
      "             nan             nan             nan             nan]\n",
      "Maximum Peak Exposure: nan\n"
     ]
    },
    {
     "name": "stderr",
     "output_type": "stream",
     "text": [
      "/var/folders/p8/rt1rktcx46g9bs8qdhqw_tw80000gn/T/ipykernel_32518/1715316468.py:20: RuntimeWarning: overflow encountered in multiply\n",
      "  dr = kappa * (theta - rates[t - 1]) * dt + sigma * dW[t - 1]\n",
      "/var/folders/p8/rt1rktcx46g9bs8qdhqw_tw80000gn/T/ipykernel_32518/1715316468.py:21: RuntimeWarning: overflow encountered in add\n",
      "  rates[t] = rates[t - 1] + dr\n",
      "/var/folders/p8/rt1rktcx46g9bs8qdhqw_tw80000gn/T/ipykernel_32518/1715316468.py:30: RuntimeWarning: overflow encountered in multiply\n",
      "  floating_leg = np.cumsum(rates[payment_dates] * dt * payment_freq, axis=0) * notional\n",
      "/Users/dibaafzali/opt/anaconda3/lib/python3.9/site-packages/numpy/lib/function_base.py:4486: RuntimeWarning: invalid value encountered in subtract\n",
      "  diff_b_a = subtract(b, a)\n"
     ]
    }
   ],
   "source": [
    "# Parameters from the Vasicek model\n",
    "kappa, theta, sigma = a , lam, sigma  # Replace with your estimated parameters\n",
    "dt = T  # Time step (daily)\n",
    "n_simulations = N  # Number of simulations\n",
    "n_steps = dt\n",
    "\n",
    "\n",
    "# Swap contract details\n",
    "notional = 2_000_000\n",
    "fixed_rate = 0.02\n",
    "payment_freq = 252 // 4  # Quarterly payments (assuming 252 trading days in a year)\n",
    "\n",
    "# Simulate interest rate paths using the Vasicek model\n",
    "def simulate_vasicek_paths(r0, kappa, theta, sigma, dt, n_steps, n_simulations):\n",
    "    rates = np.zeros((n_steps, n_simulations))\n",
    "    rates[0] = r0\n",
    "    dW = np.random.normal(0, np.sqrt(dt), size=(n_steps - 1, n_simulations))\n",
    "\n",
    "    for t in range(1, n_steps):\n",
    "        dr = kappa * (theta - rates[t - 1]) * dt + sigma * dW[t - 1]\n",
    "        rates[t] = rates[t - 1] + dr\n",
    "\n",
    "    return rates\n",
    "\n",
    "r0 = 0.05  # Initial interest rate\n",
    "rates = simulate_vasicek_paths(r0, kappa, theta, sigma, dt, n_steps, n_simulations)\n",
    "\n",
    "# Calculate future values of floating and fixed legs only at payment dates\n",
    "payment_dates = np.arange(payment_freq - 1, n_steps, payment_freq)\n",
    "floating_leg = np.cumsum(rates[payment_dates] * dt * payment_freq, axis=0) * notional\n",
    "fixed_leg = np.cumsum(np.full_like(rates[payment_dates], fixed_rate) * dt * payment_freq, axis=0) * notional\n",
    "\n",
    "# Calculate future value of the swap at each payment date\n",
    "swap_values = floating_leg - fixed_leg\n",
    "\n",
    "# Compute expected exposure\n",
    "expected_exposure_swap1 = np.mean(np.maximum(swap_values, 0), axis=1)\n",
    "\n",
    "# Compute peak exposure (97.5%)\n",
    "peak_exposure = np.percentile(np.maximum(swap_values, 0), 97.5, axis=1)\n",
    "\n",
    "# Compute maximum peak exposure\n",
    "max_peak_exposure = np.max(peak_exposure)\n",
    "\n",
    "print(f\"Expected Exposure: {expected_exposure_swap1}\")\n",
    "print(f\"Peak Exposure (97.5%): {peak_exposure}\")\n",
    "print(f\"Maximum Peak Exposure: {max_peak_exposure}\")"
   ]
  },
  {
   "cell_type": "code",
   "execution_count": 32,
   "id": "8501db42",
   "metadata": {},
   "outputs": [
    {
     "name": "stdout",
     "output_type": "stream",
     "text": [
      "Fixed Swap Rate: 0.05000000000000001\n",
      "Expected Exposure: [4.62686753e+053 8.98443024e+097 1.74459256e+142 3.38764187e+186\n",
      " 6.57810751e+230 1.27733391e+275             inf             inf\n",
      "             inf             inf             inf             inf\n",
      "             inf             inf             inf             inf\n",
      "             inf             inf             inf             inf]\n",
      "Peak Exposure (97.5%): [7.69164147e+053 1.49355943e+098 2.90018688e+142 5.63156964e+186\n",
      " 1.09353562e+231 2.12342247e+275             nan             nan\n",
      "             nan             nan             nan             nan\n",
      "             nan             nan             nan             nan\n",
      "             nan             nan             nan             nan]\n",
      "Maximum Peak Exposure: nan\n"
     ]
    },
    {
     "name": "stderr",
     "output_type": "stream",
     "text": [
      "/var/folders/p8/rt1rktcx46g9bs8qdhqw_tw80000gn/T/ipykernel_32518/3660980292.py:18: RuntimeWarning: overflow encountered in multiply\n",
      "  dr = kappa * (theta - rates[t - 1]) * dt + sigma * dW[t - 1]\n",
      "/var/folders/p8/rt1rktcx46g9bs8qdhqw_tw80000gn/T/ipykernel_32518/3660980292.py:19: RuntimeWarning: overflow encountered in add\n",
      "  rates[t] = rates[t - 1] + dr\n",
      "/var/folders/p8/rt1rktcx46g9bs8qdhqw_tw80000gn/T/ipykernel_32518/3660980292.py:31: RuntimeWarning: overflow encountered in multiply\n",
      "  floating_leg = np.cumsum(rates[payment_dates] * dt * payment_freq, axis=0) * notional\n"
     ]
    }
   ],
   "source": [
    "# Parameters from the Vasicek model\n",
    "kappa, theta, sigma = a , lam, sigma  # Replace with your estimated parameters\n",
    "dt = T  # Time step (daily)\n",
    "n_simulations = N  # Number of simulations\n",
    "n_steps = dt\n",
    "\n",
    "# Swap contract details\n",
    "notional = 8_000_000\n",
    "payment_freq = 252 // 4  # Quarterly payments (assuming 252 trading days in a year)\n",
    "\n",
    "# Simulate interest rate paths using the Vasicek model\n",
    "def simulate_vasicek_paths(r0, kappa, theta, sigma, dt, n_steps, n_simulations):\n",
    "    rates = np.zeros((n_steps, n_simulations))\n",
    "    rates[0] = r0\n",
    "    dW = np.random.normal(0, np.sqrt(dt), size=(n_steps - 1, n_simulations))\n",
    "\n",
    "    for t in range(1, n_steps):\n",
    "        dr = kappa * (theta - rates[t - 1]) * dt + sigma * dW[t - 1]\n",
    "        rates[t] = rates[t - 1] + dr\n",
    "\n",
    "    return rates\n",
    "\n",
    "r0 = 0.05  # Initial interest rate\n",
    "rates = simulate_vasicek_paths(r0, kappa, theta, sigma, dt, n_steps, n_simulations)\n",
    "\n",
    "# Set fixed swap rate such that the initial value of the contract is zero\n",
    "fixed_rate = np.mean(rates[0])\n",
    "\n",
    "# Calculate future values of floating and fixed legs only at payment dates\n",
    "payment_dates = np.arange(payment_freq - 1, n_steps, payment_freq)\n",
    "floating_leg = np.cumsum(rates[payment_dates] * dt * payment_freq, axis=0) * notional\n",
    "fixed_leg = np.cumsum(np.full_like(rates[payment_dates], fixed_rate) * dt * payment_freq, axis=0) * notional\n",
    "\n",
    "# Calculate future value of the swap at each payment date\n",
    "swap_values = floating_leg - fixed_leg\n",
    "\n",
    "# Compute expected exposure\n",
    "expected_exposure_swap2 = np.mean(np.maximum(swap_values, 0), axis=1)\n",
    "\n",
    "# Compute peak exposure (97.5%)\n",
    "peak_exposure = np.percentile(np.maximum(swap_values, 0), 97.5, axis=1)\n",
    "\n",
    "# Compute maximum peak exposure\n",
    "max_peak_exposure = np.max(peak_exposure)\n",
    "\n",
    "print(f\"Fixed Swap Rate: {fixed_rate}\")\n",
    "print(f\"Expected Exposure: {expected_exposure_swap2}\")\n",
    "print(f\"Peak Exposure (97.5%): {peak_exposure}\")\n",
    "print(f\"Maximum Peak Exposure: {max_peak_exposure}\")\n"
   ]
  },
  {
   "cell_type": "code",
   "execution_count": 33,
   "id": "8cb6da98",
   "metadata": {},
   "outputs": [
    {
     "name": "stdout",
     "output_type": "stream",
     "text": [
      "Expected Exposure: [1.28832947e+049 2.50167229e+093 4.85773582e+137 9.43272924e+181\n",
      " 1.83164306e+226 3.55667612e+270             inf             inf\n",
      "             inf             inf             inf             inf\n",
      "             inf             inf             inf             inf\n",
      "             inf             inf             inf             inf]\n",
      "Peak Exposure (97.5%): [0. 0. 0. 0. 0. 0. 0. 0. 0. 0. 0. 0. 0. 0. 0. 0. 0. 0. 0. 0.]\n",
      "Maximum Peak Exposure: 0.0\n"
     ]
    },
    {
     "name": "stderr",
     "output_type": "stream",
     "text": [
      "/var/folders/p8/rt1rktcx46g9bs8qdhqw_tw80000gn/T/ipykernel_32518/3492079588.py:19: RuntimeWarning: overflow encountered in multiply\n",
      "  dr = kappa * (theta - rates[t - 1]) * dt + sigma * dW[t - 1]\n",
      "/var/folders/p8/rt1rktcx46g9bs8qdhqw_tw80000gn/T/ipykernel_32518/3492079588.py:20: RuntimeWarning: overflow encountered in add\n",
      "  rates[t] = rates[t - 1] + dr\n",
      "/var/folders/p8/rt1rktcx46g9bs8qdhqw_tw80000gn/T/ipykernel_32518/3492079588.py:29: RuntimeWarning: overflow encountered in multiply\n",
      "  floating_leg = np.cumsum(rates[payment_dates] * dt * payment_freq, axis=0) * notional\n"
     ]
    }
   ],
   "source": [
    "# Parameters from the Vasicek model\n",
    "kappa, theta, sigma = a , lam, sigma  # Replace with your estimated parameters\n",
    "dt = T  # Time step (daily)\n",
    "n_simulations = N  # Number of simulations\n",
    "n_steps = dt\n",
    "\n",
    "# Swap contract details\n",
    "notional = 6_000_000\n",
    "fixed_rate = 0.03\n",
    "payment_freq = 252 // 4  # Quarterly payments (assuming 252 trading days in a year)\n",
    "\n",
    "# Simulate interest rate paths using the Vasicek model\n",
    "def simulate_vasicek_paths(r0, kappa, theta, sigma, dt, n_steps, n_simulations):\n",
    "    rates = np.zeros((n_steps, n_simulations))\n",
    "    rates[0] = r0\n",
    "    dW = np.random.normal(0, np.sqrt(dt), size=(n_steps - 1, n_simulations))\n",
    "\n",
    "    for t in range(1, n_steps):\n",
    "        dr = kappa * (theta - rates[t - 1]) * dt + sigma * dW[t - 1]\n",
    "        rates[t] = rates[t - 1] + dr\n",
    "\n",
    "    return rates\n",
    "\n",
    "r0 = 0.05  # Initial interest rate\n",
    "rates = simulate_vasicek_paths(r0, kappa, theta, sigma, dt, n_steps, n_simulations)\n",
    "\n",
    "# Calculate future values of floating and fixed legs only at payment dates\n",
    "payment_dates = np.arange(payment_freq - 1, n_steps, payment_freq)\n",
    "floating_leg = np.cumsum(rates[payment_dates] * dt * payment_freq, axis=0) * notional\n",
    "fixed_leg = np.cumsum(np.full_like(rates[payment_dates], fixed_rate) * dt * payment_freq, axis=0) * notional\n",
    "\n",
    "# Calculate future value of the swap at each payment date (pay floating rate, receive fixed rate)\n",
    "swap_values = fixed_leg - floating_leg\n",
    "\n",
    "# Compute expected exposure\n",
    "expected_exposure_swap3 = np.mean(np.maximum(swap_values, 0), axis=1)\n",
    "\n",
    "# Compute peak exposure (97.5%)\n",
    "peak_exposure = np.percentile(np.maximum(swap_values, 0), 97.5, axis=1)\n",
    "\n",
    "# Compute maximum peak exposure\n",
    "max_peak_exposure = np.max(peak_exposure)\n",
    "\n",
    "print(f\"Expected Exposure: {expected_exposure_swap3}\")\n",
    "print(f\"Peak Exposure (97.5%): {peak_exposure}\")\n",
    "print(f\"Maximum Peak Exposure: {max_peak_exposure}\")"
   ]
  },
  {
   "cell_type": "code",
   "execution_count": 37,
   "id": "9169acb6",
   "metadata": {},
   "outputs": [
    {
     "name": "stdout",
     "output_type": "stream",
     "text": [
      "[array([1.17344967e+053, 2.27859921e+097, 4.42457354e+141, 8.59161670e+185,\n",
      "       1.66831621e+230, 3.23952879e+274,             inf,             inf,\n",
      "                   inf,             inf,             inf,             inf,\n",
      "                   inf,             inf,             inf,             inf,\n",
      "                   inf,             inf,             inf,             inf]), array([4.62686753e+053, 8.98443024e+097, 1.74459256e+142, 3.38764187e+186,\n",
      "       6.57810751e+230, 1.27733391e+275,             inf,             inf,\n",
      "                   inf,             inf,             inf,             inf,\n",
      "                   inf,             inf,             inf,             inf,\n",
      "                   inf,             inf,             inf,             inf]), array([1.28832947e+049, 2.50167229e+093, 4.85773582e+137, 9.43272924e+181,\n",
      "       1.83164306e+226, 3.55667612e+270,             inf,             inf,\n",
      "                   inf,             inf,             inf,             inf,\n",
      "                   inf,             inf,             inf,             inf,\n",
      "                   inf,             inf,             inf,             inf])]\n"
     ]
    }
   ],
   "source": [
    "# Example expected_exposures\n",
    "expected_exposures = [\n",
    "    expected_exposure_swap1,  # Replace with EE values for Swap 1\n",
    "    expected_exposure_swap2,  # Replace with EE values for Swap 2\n",
    "    expected_exposure_swap3\n",
    "]\n",
    "\n",
    "# Find the maximum length of the expected exposure arrays\n",
    "max_length = max(len(ee) for ee in expected_exposures)\n",
    "\n",
    "# Pad the expected exposure arrays with zeros up to the maximum length\n",
    "padded_expected_exposures = [np.pad(ee, (0, max_length - len(ee)), mode='constant') for ee in expected_exposures]\n",
    "\n",
    "print(padded_expected_exposures)"
   ]
  },
  {
   "cell_type": "code",
   "execution_count": 42,
   "id": "c01ffafd",
   "metadata": {},
   "outputs": [
    {
     "name": "stdout",
     "output_type": "stream",
     "text": [
      "CVA Charge on March 10: inf\n",
      "CVA Charge on March 14: inf\n"
     ]
    }
   ],
   "source": [
    "# fra opgavem\n",
    "cds_spreads = {\n",
    "    \"March 10\": {1: 362, 2: 404, 3: 412, 4: 403, 5: 416, 10: 423},\n",
    "    \"March 14\": {1: 836, 2: 713, 3: 654, 4: 599, 5: 555, 10: 522},\n",
    "}\n",
    "\n",
    "# fra opgavem\n",
    "recovery_rate = 0.32\n",
    "\n",
    "#CDS spreads\n",
    "tenors = np.array(list(cds_spreads[\"March 10\"].keys()))\n",
    "spreads_march_10 = np.array(list(cds_spreads[\"March 10\"].values()))\n",
    "spreads_march_14 = np.array(list(cds_spreads[\"March 14\"].values()))\n",
    "\n",
    "interpolate_spreads = lambda spreads: interp1d(tenors, spreads, kind='linear', fill_value='extrapolate')\n",
    "spreads_interp_march_10 = interpolate_spreads(spreads_march_10)\n",
    "spreads_interp_march_14 = interpolate_spreads(spreads_march_14)\n",
    "\n",
    "payment_dates_years = payment_dates / 252 \n",
    "spreads_at_payment_dates_march_10 = spreads_interp_march_10(payment_dates_years)\n",
    "spreads_at_payment_dates_march_14 = spreads_interp_march_14(payment_dates_years)\n",
    "\n",
    "# Probability of Default (PD) for each payment date\n",
    "pd_march_10 = 1 - np.exp(-spreads_at_payment_dates_march_10 / 10000 * payment_dates_years)\n",
    "pd_march_14 = 1 - np.exp(-spreads_at_payment_dates_march_14 / 10000 * payment_dates_years)\n",
    "\n",
    "#LGD for every payment date\n",
    "lgd = 1 - recovery_rate\n",
    "\n",
    "#CVA charge for each swap on both dates\n",
    "cva_charge_march_10 = np.sum(expected_exposures * pd_march_10 * lgd)\n",
    "cva_charge_march_14 = np.sum(expected_exposures * pd_march_14 * lgd)\n",
    "\n",
    "print(f\"CVA Charge on March 10: {cva_charge_march_10}\")\n",
    "print(f\"CVA Charge on March 14: {cva_charge_march_14}\")"
   ]
  },
  {
   "cell_type": "code",
   "execution_count": 43,
   "id": "5f45290c",
   "metadata": {},
   "outputs": [
    {
     "name": "stdout",
     "output_type": "stream",
     "text": [
      "Portfolio Expected Exposure: [1.93348201e+053 3.75442654e+097 7.29032831e+141 1.41563262e+186\n",
      " 2.74886896e+230 5.33774120e+274             inf             inf\n",
      "             inf             inf             inf             inf\n",
      "             inf             inf             inf             inf\n",
      "             inf             inf             inf             inf]\n",
      "Portfolio Peak Exposure (97.5%): [4.45419664e+053 8.64913869e+097 1.67948580e+142 3.26121786e+186\n",
      " 6.33261795e+230 1.22966486e+275             nan             nan\n",
      "             nan             nan             nan             nan\n",
      "             nan             nan             nan             nan\n",
      "             nan             nan             nan             nan]\n",
      "Portfolio Maximum Peak Exposure: nan\n",
      "Net CVA Charge on March 10: inf\n",
      "Net CVA Charge on March 14: inf\n"
     ]
    }
   ],
   "source": [
    "# Combine the expected exposures of the three swap contracts into a portfolio\n",
    "portfolio_expected_exposure = np.mean(padded_expected_exposures, axis=0)\n",
    "portfolio_peak_exposure = np.percentile(padded_expected_exposures, 97.5, axis=0)\n",
    "portfolio_max_peak_exposure = np.max(portfolio_peak_exposure)\n",
    "\n",
    "print(f\"Portfolio Expected Exposure: {portfolio_expected_exposure}\")\n",
    "print(f\"Portfolio Peak Exposure (97.5%): {portfolio_peak_exposure}\")\n",
    "print(f\"Portfolio Maximum Peak Exposure: {portfolio_max_peak_exposure}\")\n",
    "\n",
    "# Calculate the CVA charge for the net exposure of the portfolio\n",
    "def calculate_cva_charge(pd, ee, lgd):\n",
    "    return np.sum(pd[:len(ee)] * ee * lgd)\n",
    "\n",
    "cva_charge_march_10_net = calculate_cva_charge(pd_march_10, portfolio_expected_exposure, lgd)\n",
    "cva_charge_march_14_net = calculate_cva_charge(pd_march_14, portfolio_expected_exposure, lgd)\n",
    "\n",
    "print(f\"Net CVA Charge on March 10: {cva_charge_march_10_net}\")\n",
    "print(f\"Net CVA Charge on March 14: {cva_charge_march_14_net}\")"
   ]
  },
  {
   "cell_type": "markdown",
   "id": "4b92a079",
   "metadata": {},
   "source": [
    "### Impact of netting and collateral"
   ]
  },
  {
   "cell_type": "markdown",
   "id": "fae4d793",
   "metadata": {},
   "source": [
    "Calculate the expected exposure, the peak exposure (97.5%) and the maximum peak exposure, and the\n",
    "CVA charge in the following cases\n",
    "* Netting is allowed, and no collateral is posted\n",
    "* No netting, but Credit Suisse sets a collateral of \\$100.000 per swap contract\n",
    "* Netting is allowed, and Credit Suisse sets a collateral of $100.000 in total\n",
    "* Discuss which, if any, of the above that is best suited to mitigate the counterparty risk associated with the portfolio of swaps"
   ]
  },
  {
   "cell_type": "code",
   "execution_count": 44,
   "id": "6a55625d",
   "metadata": {},
   "outputs": [
    {
     "name": "stdout",
     "output_type": "stream",
     "text": [
      "Swap 1 Adjusted Expected Exposure: inf\n",
      "Swap 1 Adjusted Peak Exposure (97.5%): nan\n",
      "Swap 1 Adjusted Maximum Peak Exposure: inf\n",
      "Swap 2 Adjusted Expected Exposure: inf\n",
      "Swap 2 Adjusted Peak Exposure (97.5%): nan\n",
      "Swap 2 Adjusted Maximum Peak Exposure: inf\n",
      "Swap 3 Adjusted Expected Exposure: inf\n",
      "Swap 3 Adjusted Peak Exposure (97.5%): nan\n",
      "Swap 3 Adjusted Maximum Peak Exposure: inf\n",
      "Swap 1 CVA Charge on March 10: inf\n",
      "Swap 1 CVA Charge on March 14: inf\n",
      "Swap 2 CVA Charge on March 10: inf\n",
      "Swap 2 CVA Charge on March 14: inf\n",
      "Swap 3 CVA Charge on March 10: inf\n",
      "Swap 3 CVA Charge on March 14: inf\n"
     ]
    },
    {
     "name": "stderr",
     "output_type": "stream",
     "text": [
      "/Users/dibaafzali/opt/anaconda3/lib/python3.9/site-packages/numpy/lib/function_base.py:4486: RuntimeWarning: invalid value encountered in subtract\n",
      "  diff_b_a = subtract(b, a)\n"
     ]
    }
   ],
   "source": [
    "collateral = 100000\n",
    "\n",
    "# Adjust the expected exposures by applying the collateral\n",
    "adjusted_expected_exposures = [np.maximum(ee - collateral, 0) for ee in padded_expected_exposures]\n",
    "\n",
    "# Calculate the expected exposure, peak exposure (97.5%), and maximum peak exposure for each swap\n",
    "for i, adjusted_ee in enumerate(adjusted_expected_exposures):\n",
    "    expected_exposure = np.mean(adjusted_ee)\n",
    "    peak_exposure = np.percentile(adjusted_ee, 97.5)\n",
    "    max_peak_exposure = np.max(adjusted_ee)\n",
    "\n",
    "    print(f\"Swap {i+1} Adjusted Expected Exposure: {expected_exposure}\")\n",
    "    print(f\"Swap {i+1} Adjusted Peak Exposure (97.5%): {peak_exposure}\")\n",
    "    print(f\"Swap {i+1} Adjusted Maximum Peak Exposure: {max_peak_exposure}\")\n",
    "\n",
    "# Calculate the CVA charge for each swap\n",
    "def calculate_cva_charge(pd, ee, lgd):\n",
    "    return np.sum(pd[:len(ee)] * ee * lgd)\n",
    "\n",
    "for i, adjusted_ee in enumerate(adjusted_expected_exposures):\n",
    "    cva_charge_march_10 = calculate_cva_charge(pd_march_10, adjusted_ee, lgd)\n",
    "    cva_charge_march_14 = calculate_cva_charge(pd_march_14, adjusted_ee, lgd)\n",
    "\n",
    "    print(f\"Swap {i+1} CVA Charge on March 10: {cva_charge_march_10}\")\n",
    "    print(f\"Swap {i+1} CVA Charge on March 14: {cva_charge_march_14}\")"
   ]
  },
  {
   "cell_type": "code",
   "execution_count": 45,
   "id": "a1cd19b8",
   "metadata": {},
   "outputs": [
    {
     "name": "stdout",
     "output_type": "stream",
     "text": [
      "Portfolio Expected Exposure with Collateral: inf\n",
      "Portfolio Peak Exposure (97.5%) with Collateral: nan\n",
      "Portfolio Maximum Peak Exposure with Collateral: inf\n",
      "Net CVA Charge on March 10 with Collateral: inf\n",
      "Net CVA Charge on March 14 with Collateral: inf\n"
     ]
    }
   ],
   "source": [
    "collateral = 100000\n",
    "\n",
    "# Combine the expected exposures of the three swap contracts into a portfolio\n",
    "portfolio_expected_exposure = np.sum(padded_expected_exposures, axis=0)\n",
    "\n",
    "# Apply collateral to the portfolio expected exposure\n",
    "portfolio_expected_exposure_collateral = np.maximum(portfolio_expected_exposure - collateral, 0)\n",
    "\n",
    "# Calculate portfolio expected exposure, peak exposure (97.5%), and maximum peak exposure with collateral\n",
    "portfolio_expected_exposure_mean = np.mean(portfolio_expected_exposure_collateral)\n",
    "portfolio_peak_exposure = np.percentile(portfolio_expected_exposure_collateral, 97.5)\n",
    "portfolio_max_peak_exposure = np.max(portfolio_expected_exposure_collateral)\n",
    "\n",
    "print(f\"Portfolio Expected Exposure with Collateral: {portfolio_expected_exposure_mean}\")\n",
    "print(f\"Portfolio Peak Exposure (97.5%) with Collateral: {portfolio_peak_exposure}\")\n",
    "print(f\"Portfolio Maximum Peak Exposure with Collateral: {portfolio_max_peak_exposure}\")\n",
    "\n",
    "# Calculate the CVA charge for the net exposure of the portfolio with collateral\n",
    "def calculate_cva_charge(pd, ee, lgd):\n",
    "    return np.sum(pd[:len(ee)] * ee * lgd)\n",
    "\n",
    "cva_charge_march_10_net_collateral = calculate_cva_charge(pd_march_10, portfolio_expected_exposure_collateral, lgd)\n",
    "cva_charge_march_14_net_collateral = calculate_cva_charge(pd_march_14, portfolio_expected_exposure_collateral, lgd)\n",
    "\n",
    "print(f\"Net CVA Charge on March 10 with Collateral: {cva_charge_march_10_net_collateral}\")\n",
    "print(f\"Net CVA Charge on March 14 with Collateral: {cva_charge_march_14_net_collateral}\")\n"
   ]
  },
  {
   "cell_type": "markdown",
   "id": "f0264fed",
   "metadata": {},
   "source": [
    "Each case has its own benefits and drawbacks to mitigating counterparty risk associated with the portfolio of swaps.\n",
    "\n",
    "Netting is allowed, and no collateral is posted. This case allows for netting, which means that the expected exposures of the swap contracts can be combined, reducing the overall exposure. However, there is no collateral so it means that there is still the counterparty risk present, as the creditworthiness credit suisse of the counterparty can change over time."
   ]
  },
  {
   "cell_type": "code",
   "execution_count": null,
   "id": "869b3b26",
   "metadata": {},
   "outputs": [],
   "source": []
  }
 ],
 "metadata": {
  "kernelspec": {
   "display_name": "Python 3 (ipykernel)",
   "language": "python",
   "name": "python3"
  },
  "language_info": {
   "codemirror_mode": {
    "name": "ipython",
    "version": 3
   },
   "file_extension": ".py",
   "mimetype": "text/x-python",
   "name": "python",
   "nbconvert_exporter": "python",
   "pygments_lexer": "ipython3",
   "version": "3.9.7"
  }
 },
 "nbformat": 4,
 "nbformat_minor": 5
}
