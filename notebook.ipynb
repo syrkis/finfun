{
 "cells": [
  {
   "cell_type": "code",
   "execution_count": 260,
   "metadata": {},
   "outputs": [],
   "source": [
    "import yfinance as yf\n",
    "import numpy as np\n",
    "import pandas as pd\n",
    "from scipy.stats import norm\n",
    "from arch import arch_model\n",
    "import warnings\n",
    "import seaborn as sns\n",
    "import matplotlib.pyplot as plt"
   ]
  },
  {
   "cell_type": "code",
   "execution_count": 261,
   "metadata": {},
   "outputs": [],
   "source": [
    "warnings.filterwarnings(\"ignore\")"
   ]
  },
  {
   "cell_type": "markdown",
   "metadata": {},
   "source": [
    "## Market risk"
   ]
  },
  {
   "cell_type": "code",
   "execution_count": 262,
   "metadata": {},
   "outputs": [],
   "source": [
    "stocks = {  # stocks and their tickers\n",
    "    'aapl' : 10 ** 6,\n",
    "    't'    : 10 ** 6,\n",
    "    'blk'  : 10 ** 6,\n",
    "    'msft' : 10 ** 6,\n",
    "}\n",
    "\n",
    "def get_adj_close(ticker, start, end):  # get adjusted close price from yahoo finance\n",
    "    return yf.download(ticker, start=start, end=end)['Adj Close']\n",
    "\n",
    "def get_portfolio(stocks, start, end):  # get portfolio of stocks\n",
    "    portfolio = pd.DataFrame()\n",
    "    for stock in stocks:\n",
    "        portfolio[stock] = get_adj_close(stocks[stock]['tick'], start, end)\n",
    "    return portfolio"
   ]
  },
  {
   "cell_type": "code",
   "execution_count": 263,
   "metadata": {},
   "outputs": [],
   "source": [
    "# expected short fall\n",
    "def expected_shortfall(returns, alpha, value_at_risk_fn):  # of the time that we loose, how much do we loose\n",
    "    return returns[returns <= - value_at_risk_fn(returns, alpha)].mean()"
   ]
  },
  {
   "cell_type": "code",
   "execution_count": 265,
   "metadata": {},
   "outputs": [],
   "source": [
    "# value at risk functions\n",
    "def non_param_value_at_risk(returns, alpha):  # stupid\n",
    "    return - returns.quantile(alpha, interpolation='lower')\n",
    "\n",
    "def non_param_probability_weighted_value_at_risk(returns, alpha, l=0.995):  # time weighted\n",
    "    returns *= np.array([l ** i for i in range(len(returns))])[:, np.newaxis]\n",
    "    return - returns.quantile(alpha, interpolation='lower')\n",
    "\n",
    "def param_value_at_risk(returns, alpha):  # assuming normal distribution\n",
    "    mu = returns.mean()    # mean\n",
    "    sigma = returns.std()  # volatility\n",
    "    return - norm.ppf(alpha, mu, sigma)\n",
    "\n",
    "def ewma_value_at_risk(returns, lambda_, alpha):  # exponentially weighted moving average\n",
    "    # this is almost certainly wrong\n",
    "    return - returns.ewm(alpha=1-lambda_).mean().quantile(alpha, interpolation='lower')\n",
    "\n",
    "def garch_value_at_risk(returns, alpha):  # generalized autoregressive conditional heteroskedasticity\n",
    "    # use arch_model function from arch library\n",
    "    am = arch_model(returns, mean='Zero', vol='GARCH', p=1, o=0, q=1, dist='Normal')\n",
    "    res = am.fit(disp='off')\n",
    "    forecasts = res.forecast(horizon=1, start=0)\n",
    "    return - forecasts.variance.values[-1, :].item() ** 0.5 * norm.ppf(alpha)"
   ]
  },
  {
   "cell_type": "code",
   "execution_count": 266,
   "metadata": {},
   "outputs": [
    {
     "ename": "ValueError",
     "evalue": "y must be squeezable to 1 dimension",
     "output_type": "error",
     "traceback": [
      "\u001b[0;31m---------------------------------------------------------------------------\u001b[0m",
      "\u001b[0;31mValueError\u001b[0m                                Traceback (most recent call last)",
      "Cell \u001b[0;32mIn[266], line 7\u001b[0m\n\u001b[1;32m      2\u001b[0m returns    \u001b[38;5;241m=\u001b[39m portfolio\u001b[38;5;241m.\u001b[39mpct_change()\u001b[38;5;241m.\u001b[39mdropna()\n\u001b[1;32m      3\u001b[0m \u001b[38;5;66;03m# expected_shortfall(returns, 0.05, non_param_value_at_risk)\u001b[39;00m\n\u001b[1;32m      4\u001b[0m \u001b[38;5;66;03m# non_param_probability_weighted_value_at_risk(returns, 0.05)\u001b[39;00m\n\u001b[1;32m      5\u001b[0m \u001b[38;5;66;03m# param_value_at_risk(returns, 0.05)\u001b[39;00m\n\u001b[1;32m      6\u001b[0m \u001b[38;5;66;03m# ewma_value_at_risk(returns, 0.94, 0.05)\u001b[39;00m\n\u001b[0;32m----> 7\u001b[0m \u001b[43mgarch_value_at_risk\u001b[49m\u001b[43m(\u001b[49m\u001b[43mreturns\u001b[49m\u001b[43m,\u001b[49m\u001b[43m \u001b[49m\u001b[38;5;241;43m0.05\u001b[39;49m\u001b[43m)\u001b[49m\n",
      "Cell \u001b[0;32mIn[265], line 20\u001b[0m, in \u001b[0;36mgarch_value_at_risk\u001b[0;34m(returns, alpha)\u001b[0m\n\u001b[1;32m     18\u001b[0m \u001b[38;5;28;01mdef\u001b[39;00m \u001b[38;5;21mgarch_value_at_risk\u001b[39m(returns, alpha):  \u001b[38;5;66;03m# generalized autoregressive conditional heteroskedasticity\u001b[39;00m\n\u001b[1;32m     19\u001b[0m     \u001b[38;5;66;03m# use arch_model function from arch library\u001b[39;00m\n\u001b[0;32m---> 20\u001b[0m     am \u001b[38;5;241m=\u001b[39m \u001b[43march_model\u001b[49m\u001b[43m(\u001b[49m\u001b[43mreturns\u001b[49m\u001b[43m,\u001b[49m\u001b[43m \u001b[49m\u001b[43mmean\u001b[49m\u001b[38;5;241;43m=\u001b[39;49m\u001b[38;5;124;43m'\u001b[39;49m\u001b[38;5;124;43mZero\u001b[39;49m\u001b[38;5;124;43m'\u001b[39;49m\u001b[43m,\u001b[49m\u001b[43m \u001b[49m\u001b[43mvol\u001b[49m\u001b[38;5;241;43m=\u001b[39;49m\u001b[38;5;124;43m'\u001b[39;49m\u001b[38;5;124;43mGARCH\u001b[39;49m\u001b[38;5;124;43m'\u001b[39;49m\u001b[43m,\u001b[49m\u001b[43m \u001b[49m\u001b[43mp\u001b[49m\u001b[38;5;241;43m=\u001b[39;49m\u001b[38;5;241;43m1\u001b[39;49m\u001b[43m,\u001b[49m\u001b[43m \u001b[49m\u001b[43mo\u001b[49m\u001b[38;5;241;43m=\u001b[39;49m\u001b[38;5;241;43m0\u001b[39;49m\u001b[43m,\u001b[49m\u001b[43m \u001b[49m\u001b[43mq\u001b[49m\u001b[38;5;241;43m=\u001b[39;49m\u001b[38;5;241;43m1\u001b[39;49m\u001b[43m,\u001b[49m\u001b[43m \u001b[49m\u001b[43mdist\u001b[49m\u001b[38;5;241;43m=\u001b[39;49m\u001b[38;5;124;43m'\u001b[39;49m\u001b[38;5;124;43mNormal\u001b[39;49m\u001b[38;5;124;43m'\u001b[39;49m\u001b[43m)\u001b[49m\n\u001b[1;32m     21\u001b[0m     res \u001b[38;5;241m=\u001b[39m am\u001b[38;5;241m.\u001b[39mfit(disp\u001b[38;5;241m=\u001b[39m\u001b[38;5;124m'\u001b[39m\u001b[38;5;124moff\u001b[39m\u001b[38;5;124m'\u001b[39m)\n\u001b[1;32m     22\u001b[0m     forecasts \u001b[38;5;241m=\u001b[39m res\u001b[38;5;241m.\u001b[39mforecast(horizon\u001b[38;5;241m=\u001b[39m\u001b[38;5;241m1\u001b[39m, start\u001b[38;5;241m=\u001b[39m\u001b[38;5;241m0\u001b[39m)\n",
      "File \u001b[0;32m~/.pyenv/versions/3.11.7/lib/python3.11/site-packages/arch/univariate/mean.py:1984\u001b[0m, in \u001b[0;36march_model\u001b[0;34m(y, x, mean, lags, vol, p, o, q, power, dist, hold_back, rescale)\u001b[0m\n\u001b[1;32m   1982\u001b[0m     am \u001b[38;5;241m=\u001b[39m ConstantMean(y, hold_back\u001b[38;5;241m=\u001b[39mhold_back, rescale\u001b[38;5;241m=\u001b[39mrescale)\n\u001b[1;32m   1983\u001b[0m \u001b[38;5;28;01melse\u001b[39;00m:  \u001b[38;5;66;03m# mean == \"zero\"\u001b[39;00m\n\u001b[0;32m-> 1984\u001b[0m     am \u001b[38;5;241m=\u001b[39m \u001b[43mZeroMean\u001b[49m\u001b[43m(\u001b[49m\u001b[43my\u001b[49m\u001b[43m,\u001b[49m\u001b[43m \u001b[49m\u001b[43mhold_back\u001b[49m\u001b[38;5;241;43m=\u001b[39;49m\u001b[43mhold_back\u001b[49m\u001b[43m,\u001b[49m\u001b[43m \u001b[49m\u001b[43mrescale\u001b[49m\u001b[38;5;241;43m=\u001b[39;49m\u001b[43mrescale\u001b[49m\u001b[43m)\u001b[49m\n\u001b[1;32m   1986\u001b[0m \u001b[38;5;28;01mif\u001b[39;00m vol \u001b[38;5;129;01min\u001b[39;00m (\u001b[38;5;124m\"\u001b[39m\u001b[38;5;124march\u001b[39m\u001b[38;5;124m\"\u001b[39m, \u001b[38;5;124m\"\u001b[39m\u001b[38;5;124mgarch\u001b[39m\u001b[38;5;124m\"\u001b[39m, \u001b[38;5;124m\"\u001b[39m\u001b[38;5;124mfigarch\u001b[39m\u001b[38;5;124m\"\u001b[39m, \u001b[38;5;124m\"\u001b[39m\u001b[38;5;124megarch\u001b[39m\u001b[38;5;124m\"\u001b[39m, \u001b[38;5;124m\"\u001b[39m\u001b[38;5;124maparch\u001b[39m\u001b[38;5;124m\"\u001b[39m) \u001b[38;5;129;01mand\u001b[39;00m \u001b[38;5;129;01mnot\u001b[39;00m \u001b[38;5;28misinstance\u001b[39m(\n\u001b[1;32m   1987\u001b[0m     p, \u001b[38;5;28mint\u001b[39m\n\u001b[1;32m   1988\u001b[0m ):\n\u001b[1;32m   1989\u001b[0m     \u001b[38;5;28;01mraise\u001b[39;00m \u001b[38;5;167;01mTypeError\u001b[39;00m(\n\u001b[1;32m   1990\u001b[0m         \u001b[38;5;124m\"\u001b[39m\u001b[38;5;124mp must be a scalar int for all volatility processes except HARCH.\u001b[39m\u001b[38;5;124m\"\u001b[39m\n\u001b[1;32m   1991\u001b[0m     )\n",
      "File \u001b[0;32m~/.pyenv/versions/3.11.7/lib/python3.11/site-packages/arch/univariate/mean.py:1264\u001b[0m, in \u001b[0;36mZeroMean.__init__\u001b[0;34m(self, y, hold_back, volatility, distribution, rescale)\u001b[0m\n\u001b[1;32m   1256\u001b[0m \u001b[38;5;28;01mdef\u001b[39;00m \u001b[38;5;21m__init__\u001b[39m(\n\u001b[1;32m   1257\u001b[0m     \u001b[38;5;28mself\u001b[39m,\n\u001b[1;32m   1258\u001b[0m     y: ArrayLike \u001b[38;5;241m|\u001b[39m \u001b[38;5;28;01mNone\u001b[39;00m \u001b[38;5;241m=\u001b[39m \u001b[38;5;28;01mNone\u001b[39;00m,\n\u001b[0;32m   (...)\u001b[0m\n\u001b[1;32m   1262\u001b[0m     rescale: \u001b[38;5;28mbool\u001b[39m \u001b[38;5;241m|\u001b[39m \u001b[38;5;28;01mNone\u001b[39;00m \u001b[38;5;241m=\u001b[39m \u001b[38;5;28;01mNone\u001b[39;00m,\n\u001b[1;32m   1263\u001b[0m ) \u001b[38;5;241m-\u001b[39m\u001b[38;5;241m>\u001b[39m \u001b[38;5;28;01mNone\u001b[39;00m:\n\u001b[0;32m-> 1264\u001b[0m     \u001b[38;5;28;43msuper\u001b[39;49m\u001b[43m(\u001b[49m\u001b[43m)\u001b[49m\u001b[38;5;241;43m.\u001b[39;49m\u001b[38;5;21;43m__init__\u001b[39;49m\u001b[43m(\u001b[49m\n\u001b[1;32m   1265\u001b[0m \u001b[43m        \u001b[49m\u001b[43my\u001b[49m\u001b[43m,\u001b[49m\n\u001b[1;32m   1266\u001b[0m \u001b[43m        \u001b[49m\u001b[43mx\u001b[49m\u001b[38;5;241;43m=\u001b[39;49m\u001b[38;5;28;43;01mNone\u001b[39;49;00m\u001b[43m,\u001b[49m\n\u001b[1;32m   1267\u001b[0m \u001b[43m        \u001b[49m\u001b[43mconstant\u001b[49m\u001b[38;5;241;43m=\u001b[39;49m\u001b[38;5;28;43;01mFalse\u001b[39;49;00m\u001b[43m,\u001b[49m\n\u001b[1;32m   1268\u001b[0m \u001b[43m        \u001b[49m\u001b[43mhold_back\u001b[49m\u001b[38;5;241;43m=\u001b[39;49m\u001b[43mhold_back\u001b[49m\u001b[43m,\u001b[49m\n\u001b[1;32m   1269\u001b[0m \u001b[43m        \u001b[49m\u001b[43mvolatility\u001b[49m\u001b[38;5;241;43m=\u001b[39;49m\u001b[43mvolatility\u001b[49m\u001b[43m,\u001b[49m\n\u001b[1;32m   1270\u001b[0m \u001b[43m        \u001b[49m\u001b[43mdistribution\u001b[49m\u001b[38;5;241;43m=\u001b[39;49m\u001b[43mdistribution\u001b[49m\u001b[43m,\u001b[49m\n\u001b[1;32m   1271\u001b[0m \u001b[43m        \u001b[49m\u001b[43mrescale\u001b[49m\u001b[38;5;241;43m=\u001b[39;49m\u001b[43mrescale\u001b[49m\u001b[43m,\u001b[49m\n\u001b[1;32m   1272\u001b[0m \u001b[43m    \u001b[49m\u001b[43m)\u001b[49m\n\u001b[1;32m   1273\u001b[0m     \u001b[38;5;28mself\u001b[39m\u001b[38;5;241m.\u001b[39m_name \u001b[38;5;241m=\u001b[39m \u001b[38;5;124m\"\u001b[39m\u001b[38;5;124mZero Mean\u001b[39m\u001b[38;5;124m\"\u001b[39m\n",
      "File \u001b[0;32m~/.pyenv/versions/3.11.7/lib/python3.11/site-packages/arch/univariate/mean.py:267\u001b[0m, in \u001b[0;36mHARX.__init__\u001b[0;34m(self, y, x, lags, constant, use_rotated, hold_back, volatility, distribution, rescale)\u001b[0m\n\u001b[1;32m    248\u001b[0m \u001b[38;5;28;01mdef\u001b[39;00m \u001b[38;5;21m__init__\u001b[39m(\n\u001b[1;32m    249\u001b[0m     \u001b[38;5;28mself\u001b[39m,\n\u001b[1;32m    250\u001b[0m     y: ArrayLike \u001b[38;5;241m|\u001b[39m \u001b[38;5;28;01mNone\u001b[39;00m \u001b[38;5;241m=\u001b[39m \u001b[38;5;28;01mNone\u001b[39;00m,\n\u001b[0;32m   (...)\u001b[0m\n\u001b[1;32m    265\u001b[0m     rescale: \u001b[38;5;28mbool\u001b[39m \u001b[38;5;241m|\u001b[39m \u001b[38;5;28;01mNone\u001b[39;00m \u001b[38;5;241m=\u001b[39m \u001b[38;5;28;01mNone\u001b[39;00m,\n\u001b[1;32m    266\u001b[0m ) \u001b[38;5;241m-\u001b[39m\u001b[38;5;241m>\u001b[39m \u001b[38;5;28;01mNone\u001b[39;00m:\n\u001b[0;32m--> 267\u001b[0m     \u001b[38;5;28;43msuper\u001b[39;49m\u001b[43m(\u001b[49m\u001b[43m)\u001b[49m\u001b[38;5;241;43m.\u001b[39;49m\u001b[38;5;21;43m__init__\u001b[39;49m\u001b[43m(\u001b[49m\n\u001b[1;32m    268\u001b[0m \u001b[43m        \u001b[49m\u001b[43my\u001b[49m\u001b[43m,\u001b[49m\n\u001b[1;32m    269\u001b[0m \u001b[43m        \u001b[49m\u001b[43mhold_back\u001b[49m\u001b[38;5;241;43m=\u001b[39;49m\u001b[43mhold_back\u001b[49m\u001b[43m,\u001b[49m\n\u001b[1;32m    270\u001b[0m \u001b[43m        \u001b[49m\u001b[43mvolatility\u001b[49m\u001b[38;5;241;43m=\u001b[39;49m\u001b[43mvolatility\u001b[49m\u001b[43m,\u001b[49m\n\u001b[1;32m    271\u001b[0m \u001b[43m        \u001b[49m\u001b[43mdistribution\u001b[49m\u001b[38;5;241;43m=\u001b[39;49m\u001b[43mdistribution\u001b[49m\u001b[43m,\u001b[49m\n\u001b[1;32m    272\u001b[0m \u001b[43m        \u001b[49m\u001b[43mrescale\u001b[49m\u001b[38;5;241;43m=\u001b[39;49m\u001b[43mrescale\u001b[49m\u001b[43m,\u001b[49m\n\u001b[1;32m    273\u001b[0m \u001b[43m    \u001b[49m\u001b[43m)\u001b[49m\n\u001b[1;32m    274\u001b[0m     \u001b[38;5;28mself\u001b[39m\u001b[38;5;241m.\u001b[39m_x \u001b[38;5;241m=\u001b[39m x\n\u001b[1;32m    275\u001b[0m     \u001b[38;5;28mself\u001b[39m\u001b[38;5;241m.\u001b[39m_x_names: \u001b[38;5;28mlist\u001b[39m[\u001b[38;5;28mstr\u001b[39m] \u001b[38;5;241m=\u001b[39m []\n",
      "File \u001b[0;32m~/.pyenv/versions/3.11.7/lib/python3.11/site-packages/arch/univariate/base.py:193\u001b[0m, in \u001b[0;36mARCHModel.__init__\u001b[0;34m(self, y, volatility, distribution, hold_back, rescale)\u001b[0m\n\u001b[1;32m    191\u001b[0m \u001b[38;5;28mself\u001b[39m\u001b[38;5;241m.\u001b[39m_is_pandas \u001b[38;5;241m=\u001b[39m \u001b[38;5;28misinstance\u001b[39m(y, (pd\u001b[38;5;241m.\u001b[39mDataFrame, pd\u001b[38;5;241m.\u001b[39mSeries))\n\u001b[1;32m    192\u001b[0m \u001b[38;5;28;01mif\u001b[39;00m y \u001b[38;5;129;01mis\u001b[39;00m \u001b[38;5;129;01mnot\u001b[39;00m \u001b[38;5;28;01mNone\u001b[39;00m:\n\u001b[0;32m--> 193\u001b[0m     \u001b[38;5;28mself\u001b[39m\u001b[38;5;241m.\u001b[39m_y_series \u001b[38;5;241m=\u001b[39m cast(pd\u001b[38;5;241m.\u001b[39mSeries, \u001b[43mensure1d\u001b[49m\u001b[43m(\u001b[49m\u001b[43my\u001b[49m\u001b[43m,\u001b[49m\u001b[43m \u001b[49m\u001b[38;5;124;43m\"\u001b[39;49m\u001b[38;5;124;43my\u001b[39;49m\u001b[38;5;124;43m\"\u001b[39;49m\u001b[43m,\u001b[49m\u001b[43m \u001b[49m\u001b[43mseries\u001b[49m\u001b[38;5;241;43m=\u001b[39;49m\u001b[38;5;28;43;01mTrue\u001b[39;49;00m\u001b[43m)\u001b[49m)\n\u001b[1;32m    194\u001b[0m \u001b[38;5;28;01melse\u001b[39;00m:\n\u001b[1;32m    195\u001b[0m     \u001b[38;5;28mself\u001b[39m\u001b[38;5;241m.\u001b[39m_y_series \u001b[38;5;241m=\u001b[39m cast(pd\u001b[38;5;241m.\u001b[39mSeries, ensure1d(np\u001b[38;5;241m.\u001b[39mempty((\u001b[38;5;241m0\u001b[39m,)), \u001b[38;5;124m\"\u001b[39m\u001b[38;5;124my\u001b[39m\u001b[38;5;124m\"\u001b[39m, series\u001b[38;5;241m=\u001b[39m\u001b[38;5;28;01mTrue\u001b[39;00m))\n",
      "File \u001b[0;32m~/.pyenv/versions/3.11.7/lib/python3.11/site-packages/arch/utility/array.py:69\u001b[0m, in \u001b[0;36mensure1d\u001b[0;34m(x, name, series)\u001b[0m\n\u001b[1;32m     67\u001b[0m \u001b[38;5;28;01mif\u001b[39;00m \u001b[38;5;28misinstance\u001b[39m(x, DataFrame):\n\u001b[1;32m     68\u001b[0m     \u001b[38;5;28;01mif\u001b[39;00m x\u001b[38;5;241m.\u001b[39mshape[\u001b[38;5;241m1\u001b[39m] \u001b[38;5;241m!=\u001b[39m \u001b[38;5;241m1\u001b[39m:\n\u001b[0;32m---> 69\u001b[0m         \u001b[38;5;28;01mraise\u001b[39;00m \u001b[38;5;167;01mValueError\u001b[39;00m(\u001b[38;5;124mf\u001b[39m\u001b[38;5;124m\"\u001b[39m\u001b[38;5;132;01m{\u001b[39;00mname\u001b[38;5;132;01m}\u001b[39;00m\u001b[38;5;124m must be squeezable to 1 dimension\u001b[39m\u001b[38;5;124m\"\u001b[39m)\n\u001b[1;32m     70\u001b[0m     \u001b[38;5;28;01mif\u001b[39;00m \u001b[38;5;129;01mnot\u001b[39;00m series:\n\u001b[1;32m     71\u001b[0m         \u001b[38;5;28;01mreturn\u001b[39;00m np\u001b[38;5;241m.\u001b[39masarray(x\u001b[38;5;241m.\u001b[39miloc[:, \u001b[38;5;241m0\u001b[39m])\n",
      "\u001b[0;31mValueError\u001b[0m: y must be squeezable to 1 dimension"
     ]
    }
   ],
   "source": [
    "portfolio  = get_portfolio(stocks, '2018-01-01', '2019-01-01') if 'prices' not in locals() else eval('prices')\n",
    "returns    = portfolio.pct_change().dropna()\n",
    "# expected_shortfall(returns, 0.05, non_param_value_at_risk)\n",
    "# non_param_probability_weighted_value_at_risk(returns, 0.05)\n",
    "# param_value_at_risk(returns, 0.05)\n",
    "# ewma_value_at_risk(returns, 0.94, 0.05)\n",
    "garch_value_at_risk(returns, 0.05)"
   ]
  },
  {
   "cell_type": "code",
   "execution_count": 253,
   "metadata": {},
   "outputs": [
    {
     "data": {
      "text/plain": [
       "array([1.])"
      ]
     },
     "execution_count": 253,
     "metadata": {},
     "output_type": "execute_result"
    }
   ],
   "source": [
    "x = np.random.randn(8)\n",
    "w = np.array([0.1, 0.2, 0.3, 0.4])\n",
    "y = np.zeros(x.shape[0])\n",
    "\n",
    "def moving_average(x, w):\n",
    "    for i in range(x.shape[0]):\n",
    "        x_   = x[max(0, i - w.shape[0] + 1): i + 1]\n",
    "        w_   = w[:x_.shape[0]]\n",
    "        y[i] = np.sum(x_ * w_) / np.sum(w_)\n",
    "    return y\n",
    "\n",
    "# auto regressive\n"
   ]
  },
  {
   "cell_type": "markdown",
   "metadata": {},
   "source": [
    "## Derivatives pricing"
   ]
  },
  {
   "cell_type": "code",
   "execution_count": 17,
   "metadata": {},
   "outputs": [],
   "source": [
    "# geometric brownian motion\n",
    "def geometric_brownian_motion(S, mu, sigma, W, T, N):\n",
    "    t = numpy.linspace(0., 1., N + 1)\n",
    "    S = []\n",
    "    S.append(S)\n",
    "    for i in range(1, int(N + 1)):\n",
    "        drift = (mu - 0.5 * sigma ** 2) * t[i]\n",
    "        diffusion = sigma * W[i - 1]\n",
    "        S_temp = S[-1] * numpy.exp(drift + diffusion)\n",
    "        S.append(S_temp)\n",
    "    return S, t"
   ]
  },
  {
   "cell_type": "code",
   "execution_count": null,
   "metadata": {},
   "outputs": [],
   "source": [
    "# pricing options\n",
    "def atm_call_price(S, K, T, r, sigma):\n",
    "    d1 = (numpy.log(S / K) + (r + 0.5 * sigma ** 2) * T) / (sigma * numpy.sqrt(T))\n",
    "    d2 = d1 - sigma * numpy.sqrt(T)\n",
    "    return S * norm.cdf(d1) - numpy.exp(-r * T) * K * norm.cdf(d2)"
   ]
  },
  {
   "cell_type": "code",
   "execution_count": 14,
   "metadata": {},
   "outputs": [],
   "source": [
    "stock = portfolio[stocks['Apple']]"
   ]
  },
  {
   "cell_type": "markdown",
   "metadata": {},
   "source": [
    "## Delta hedging in the Black-Scholes model"
   ]
  },
  {
   "cell_type": "code",
   "execution_count": 18,
   "metadata": {},
   "outputs": [
    {
     "name": "stderr",
     "output_type": "stream",
     "text": [
      "[*********************100%%**********************]  1 of 1 completed\n"
     ]
    }
   ],
   "source": [
    "# delta hedge\n",
    "def delta_hedge(S, K, T, r, sigma, N, M, W):\n",
    "    dt = T / N\n",
    "    delta = []\n",
    "    for i in range(M):\n",
    "        S_t, t = geometric_brownian_motion(S, r, sigma, W[i], T, N)\n",
    "        delta.append((atm_call_price(S_t[-1], K, T, r, sigma) - atm_call_price(S_t[-2], K, T, r, sigma)) / (S_t[-1] - S_t[-2]))\n",
    "    return delta\n",
    "\n",
    "stock = get_adj_close(stocks['Apple'], '2018-01-01', '2019-01-01')"
   ]
  },
  {
   "cell_type": "markdown",
   "metadata": {},
   "source": [
    "## Credit Value Adjustment"
   ]
  },
  {
   "cell_type": "code",
   "execution_count": null,
   "metadata": {},
   "outputs": [],
   "source": []
  }
 ],
 "metadata": {
  "kernelspec": {
   "display_name": "Python 3",
   "language": "python",
   "name": "python3"
  },
  "language_info": {
   "codemirror_mode": {
    "name": "ipython",
    "version": 3
   },
   "file_extension": ".py",
   "mimetype": "text/x-python",
   "name": "python",
   "nbconvert_exporter": "python",
   "pygments_lexer": "ipython3",
   "version": "3.11.7"
  }
 },
 "nbformat": 4,
 "nbformat_minor": 2
}
